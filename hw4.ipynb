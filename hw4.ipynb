{
 "metadata": {
  "language_info": {
   "codemirror_mode": {
    "name": "ipython",
    "version": 3
   },
   "file_extension": ".py",
   "mimetype": "text/x-python",
   "name": "python",
   "nbconvert_exporter": "python",
   "pygments_lexer": "ipython3",
   "version": "3.8.2-final"
  },
  "orig_nbformat": 2,
  "kernelspec": {
   "name": "python3",
   "display_name": "Python 3",
   "language": "python"
  }
 },
 "nbformat": 4,
 "nbformat_minor": 2,
 "cells": [
  {
   "cell_type": "code",
   "execution_count": 1,
   "metadata": {},
   "outputs": [],
   "source": [
    "import cvxpy as cp \n",
    "import numpy as np \n",
    "\n",
    "%matplotlib inline \n"
   ]
  },
  {
   "cell_type": "code",
   "execution_count": 105,
   "metadata": {
    "tags": []
   },
   "outputs": [
    {
     "output_type": "stream",
     "name": "stdout",
     "text": [
      "X value:[5.06465497 4.97019179 4.71869573 1.        ]\n",
      "X value:[5.04342469 4.94668679 5.06009653 1.        ]\n",
      "X value:[5.03097998 4.94622905 5.15018689 1.        ]\n",
      "X value:[4.92416157 5.03046277 5.17608346 1.        ]\n",
      "X value:None\n",
      "X value:None\n",
      "X value:[4.91943963 5.0281713  5.18529779 1.        ]\n",
      "X value:[4.91660534 5.02248786 5.19089986 1.        ]\n",
      "X value:None\n",
      "X value:[4.91459037 5.01789831 5.19256874 1.        ]\n",
      "X value:None\n",
      "X value:[4.91300164 5.01663721 5.199454   1.        ]\n",
      "X value:None\n",
      "X value:[4.91258252 5.0163779  5.2003452  1.        ]\n",
      "X value:None\n",
      "X value:[4.91188161 5.01566066 5.19889862 1.        ]\n",
      "X value:[4.91163098 5.0153999  5.19789485 1.        ]\n",
      "X value:[4.91172337 5.01549186 5.19760158 1.        ]\n",
      "X value:None\n",
      "X value:None\n"
     ]
    }
   ],
   "source": [
    "P1 = np.array([[1,0,0,0],[0,1,0,0],[0,0,1,0]])\n",
    "P2 = np.array([[1,0,0,0],[0,0,1,0],[0,-1,0,10]])\n",
    "P3 = np.array([[1,1,1,-10],[-1,1,1,0],[-1,-1,1,10]])\n",
    "P4 = np.array([[0,1,1,0],[0,-1,1,0],[-1,0,0,10]])\n",
    "y1 = np.array([0.98,0.93])\n",
    "y2 = np.array([1.01,1.01])\n",
    "y3 = np.array([0.95,1.05])\n",
    "y4 = np.array([2.04,0.00])\n",
    "P = np.array([P1,P2,P3,P4])\n",
    "y = np.array([y1,y2,y3,y4])\n",
    "up = 1\n",
    "low = 0 \n",
    "stop_threshold = 1e-6\n",
    "#print(x_pri.shape)\n",
    "opt_x =[]\n",
    "while (up-low)>stop_threshold:\n",
    "    #bisection \n",
    "    x= cp.Variable(4)\n",
    "    #x_pri = cp.hstack((x,1))\n",
    "    t = (up+low)/2\n",
    "    constraints = [] \n",
    "    constraints += [x[3]==1]\n",
    "    for i, p in enumerate(P):\n",
    "        A = p@x \n",
    "        constraints += [ cp.norm2(A[0:2]-A[2]*y[i])<=t*A[2] ]\n",
    "  \n",
    "    prob = cp.Problem(cp.Minimize(1), constraints=constraints)\n",
    "    #print(\"prob{}\".format(prob))\n",
    "    #print(\"t:{}\".format(t))\n",
    "    result = prob.solve()\n",
    "    #print(result)\n",
    "    if np.isinf(result):\n",
    "        #print(\"dfsf\")\n",
    "        low = t \n",
    "    else:\n",
    "        opt_x = x.value \n",
    "        up = t \n",
    "    #print(\"l - u{}\".format(low - up))\n",
    "    print(\"X value:{}\".format(x.value))\n",
    "\n",
    "\n",
    "    \n",
    "\n",
    "\n",
    "\n"
   ]
  },
  {
   "cell_type": "code",
   "execution_count": 104,
   "metadata": {},
   "outputs": [
    {
     "output_type": "stream",
     "name": "stdout",
     "text": [
      "The optimal x is: [4.91172337 5.01549186 5.19760158]\n"
     ]
    }
   ],
   "source": [
    "print(\"The optimal x is: {}\".format(opt_x[0:3]))"
   ]
  }
 ]
}